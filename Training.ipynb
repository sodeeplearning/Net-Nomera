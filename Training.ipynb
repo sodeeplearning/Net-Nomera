{
 "cells": [
  {
   "cell_type": "code",
   "execution_count": 39,
   "id": "4c25604d-ad33-4c95-8036-cf4df8a27576",
   "metadata": {},
   "outputs": [],
   "source": [
    "import torch\n",
    "import ST\n",
    "from torchvision.models import resnet50\n",
    "import pandas as pd"
   ]
  },
  {
   "cell_type": "markdown",
   "id": "83e21a64-f0cd-4540-a61f-43b9674c546b",
   "metadata": {},
   "source": [
    "# DETR"
   ]
  },
  {
   "cell_type": "code",
   "execution_count": 29,
   "id": "a4445311-2b56-407e-912d-84f13cf0367b",
   "metadata": {},
   "outputs": [],
   "source": [
    "class DETR (torch.nn.Module):\n",
    "    def __init__ (\n",
    "        self,\n",
    "        num_classes,\n",
    "        hidden_dim,\n",
    "        nheads,\n",
    "        num_encoder_layers,\n",
    "        num_decoder_layers,\n",
    "    ):\n",
    "        super().__init__()\n",
    "\n",
    "        self.backbone = torch.nn.Sequential(*list(resnet50(pretrained=True).children())[:-2])\n",
    "        self.conv = torch.nn.Conv2d(in_channels=2048,\n",
    "                                    out_channels = hidden_dim,\n",
    "                                    kernel_size = 1)\n",
    "        self.transformer = torch.nn.Transformer(hidden_dim, nheads, num_encoder_layers, num_decoder_layers)\n",
    "        self.linear_class = torch.nn.Linear(hidden_dim, num_classes + 1)\n",
    "        self.linear_bbox = torch.nn.Linear(hidden_dim, 4)\n",
    "        self.query_pos = torch.nn.Parameter(torch.rand(100,  hidden_dim))\n",
    "        self.row_embed = torch.nn.Parameter(torch.rand(50, hidden_dim // 2))\n",
    "        self.col_embed = torch.nn.Parameter(torch.rand(50, hidden_dim // 2))\n",
    "\n",
    "    def forward(self, inputs):\n",
    "        x = self.backbone(inputs)\n",
    "        h = self.conv(x)\n",
    "        H, W = h.shape[-2:]\n",
    "        pos = torch.cat((\n",
    "            self.col_embed[:W].unsqueeze(0).repeat(H, 1, 1),\n",
    "            self.row_embed[:H].unsqueeze(1).repeat(1, W, 1)\n",
    "        ), dim =-1).flatten(0, 1).unsqueeze(1)\n",
    "        h = self.transformer(pos + h.flatten(2).permute(2, 0, 1),\n",
    "                            self.query_pos.unsqueeze(1))\n",
    "        return self.linear_class(h).squeeze(), self.linear_bbox(h).sigmoid().squeeze()"
   ]
  },
  {
   "cell_type": "code",
   "execution_count": 33,
   "id": "1482aa55-a0c1-4e21-884e-1871e058248f",
   "metadata": {},
   "outputs": [],
   "source": [
    "detr = DETR(num_classes=1,\n",
    "            hidden_dim=256,\n",
    "            nheads=8,\n",
    "            num_encoder_layers=6,\n",
    "            num_decoder_layers=6)"
   ]
  },
  {
   "cell_type": "code",
   "execution_count": 34,
   "id": "1ddb8a6b-db59-499d-8d73-7abf3dfb3626",
   "metadata": {
    "scrolled": true
   },
   "outputs": [],
   "source": [
    "logits, bboxes = detr(torch.randn(1, 3, 800, 1200))"
   ]
  },
  {
   "cell_type": "code",
   "execution_count": 36,
   "id": "1f4c227b-5374-4050-a5d9-35c775ba6eb6",
   "metadata": {},
   "outputs": [
    {
     "data": {
      "text/plain": [
       "torch.Size([100, 2])"
      ]
     },
     "execution_count": 36,
     "metadata": {},
     "output_type": "execute_result"
    }
   ],
   "source": [
    "logits.shape"
   ]
  },
  {
   "cell_type": "markdown",
   "id": "bb89611e-38a5-4f19-b500-75c58edec4c3",
   "metadata": {},
   "source": [
    "### Getting detection dataset"
   ]
  },
  {
   "cell_type": "code",
   "execution_count": 141,
   "id": "c8089012-fd7d-45d1-9554-0f3aeb578466",
   "metadata": {},
   "outputs": [],
   "source": [
    "train_images = torch.load('Saved Tensors/Augmented images.pth')\n",
    "train_bboxes = torch.load('Saved Tensors/bboxes.pth')\n",
    "train_classes = torch.load('Saved Tensors/classes.pth')"
   ]
  },
  {
   "cell_type": "markdown",
   "id": "2e768551-1b08-4ef6-88ce-616d09b2f88f",
   "metadata": {},
   "source": [
    "# Training"
   ]
  }
 ],
 "metadata": {
  "kernelspec": {
   "display_name": "Python 3 (ipykernel)",
   "language": "python",
   "name": "python3"
  },
  "language_info": {
   "codemirror_mode": {
    "name": "ipython",
    "version": 3
   },
   "file_extension": ".py",
   "mimetype": "text/x-python",
   "name": "python",
   "nbconvert_exporter": "python",
   "pygments_lexer": "ipython3",
   "version": "3.11.7"
  }
 },
 "nbformat": 4,
 "nbformat_minor": 5
}
